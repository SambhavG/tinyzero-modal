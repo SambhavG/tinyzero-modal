{
 "cells": [
  {
   "cell_type": "code",
   "execution_count": 2,
   "id": "30ce0de9",
   "metadata": {},
   "outputs": [
    {
     "name": "stdout",
     "output_type": "stream",
     "text": [
      "327680\n",
      "target                                                         98\n",
      "nums                                                 [44, 19, 35]\n",
      "data_source                                             countdown\n",
      "prompt          [{'content': 'A conversation between User and ...\n",
      "ability                                                      math\n",
      "reward_model    {'ground_truth': {'numbers': [44, 19, 35], 'ta...\n",
      "extra_info                         {'index': 0, 'split': 'train'}\n",
      "Name: 0, dtype: object\n",
      "[{'content': 'A conversation between User and Assistant. The user asks a question, and the Assistant solves it. The assistant first thinks about the reasoning process in the mind and then provides the user with the answer.\\nUser: Using the numbers [44, 19, 35], create an equation that equals 98. You can use basic arithmetic operations (+, -, *, /) and each number can only be used once. Show your work in <think> </think> tags. And return the final answer in <answer> </answer> tags, for example <answer> (1 + 2) / 3 </answer>.\\nAssistant: Let me solve this step by step.\\n<think>', 'role': 'user'}]\n",
      "{'ground_truth': {'numbers': array([44, 19, 35]), 'target': 98}, 'style': 'rule'}\n",
      "<class 'int'>\n"
     ]
    }
   ],
   "source": [
    "# ./countdown/train.parquet\n",
    "import pandas as pd\n",
    "\n",
    "data = pd.read_parquet(\"./data/train.parquet\")\n",
    "print(len(data))\n",
    "# Print as df\n",
    "print(data.loc[0])\n",
    "print(data.loc[0][\"prompt\"])\n",
    "print(data.loc[0][\"reward_model\"])\n",
    "print(type(data.loc[0][\"extra_info\"][\"index\"]))\n"
   ]
  },
  {
   "cell_type": "code",
   "execution_count": null,
   "id": "22bf64d7",
   "metadata": {},
   "outputs": [],
   "source": []
  }
 ],
 "metadata": {
  "kernelspec": {
   "display_name": "tinyzero",
   "language": "python",
   "name": "python3"
  },
  "language_info": {
   "codemirror_mode": {
    "name": "ipython",
    "version": 3
   },
   "file_extension": ".py",
   "mimetype": "text/x-python",
   "name": "python",
   "nbconvert_exporter": "python",
   "pygments_lexer": "ipython3",
   "version": "3.13.7"
  }
 },
 "nbformat": 4,
 "nbformat_minor": 5
}
