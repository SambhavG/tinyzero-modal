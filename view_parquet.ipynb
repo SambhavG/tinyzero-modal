{
 "cells": [
  {
   "cell_type": "code",
   "execution_count": 6,
   "id": "30ce0de9",
   "metadata": {},
   "outputs": [
    {
     "name": "stdout",
     "output_type": "stream",
     "text": [
      "target                                                         98\n",
      "nums                                                 [44, 19, 35]\n",
      "data_source                                             countdown\n",
      "prompt          [{'content': 'A conversation between User and ...\n",
      "ability                                                      math\n",
      "reward_model    {'ground_truth': {'numbers': [44, 19, 35], 'ta...\n",
      "extra_info                         {'index': 0, 'split': 'train'}\n",
      "Name: 0, dtype: object\n"
     ]
    }
   ],
   "source": [
    "# ./countdown/train.parquet\n",
    "import pandas as pd\n",
    "\n",
    "data = pd.read_parquet(\"./countdown/train.parquet\")\n",
    "# Print as df\n",
    "print(data.loc[0])"
   ]
  },
  {
   "cell_type": "code",
   "execution_count": null,
   "id": "22bf64d7",
   "metadata": {},
   "outputs": [],
   "source": []
  }
 ],
 "metadata": {
  "kernelspec": {
   "display_name": "tinyzero",
   "language": "python",
   "name": "python3"
  },
  "language_info": {
   "codemirror_mode": {
    "name": "ipython",
    "version": 3
   },
   "file_extension": ".py",
   "mimetype": "text/x-python",
   "name": "python",
   "nbconvert_exporter": "python",
   "pygments_lexer": "ipython3",
   "version": "3.13.7"
  }
 },
 "nbformat": 4,
 "nbformat_minor": 5
}
